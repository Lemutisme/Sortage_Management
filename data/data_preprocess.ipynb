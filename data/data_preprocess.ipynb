{
 "cells": [
  {
   "cell_type": "code",
   "execution_count": 8,
   "id": "24d54d35",
   "metadata": {},
   "outputs": [],
   "source": [
    "import pandas as pd"
   ]
  },
  {
   "cell_type": "code",
   "execution_count": 2,
   "id": "056df9ae",
   "metadata": {},
   "outputs": [
    {
     "name": "stdout",
     "output_type": "stream",
     "text": [
      "(623, 10)\n"
     ]
    },
    {
     "data": {
      "text/html": [
       "<div>\n",
       "<style scoped>\n",
       "    .dataframe tbody tr th:only-of-type {\n",
       "        vertical-align: middle;\n",
       "    }\n",
       "\n",
       "    .dataframe tbody tr th {\n",
       "        vertical-align: top;\n",
       "    }\n",
       "\n",
       "    .dataframe thead th {\n",
       "        text-align: right;\n",
       "    }\n",
       "</style>\n",
       "<table border=\"1\" class=\"dataframe\">\n",
       "  <thead>\n",
       "    <tr style=\"text-align: right;\">\n",
       "      <th></th>\n",
       "      <th>gt_id</th>\n",
       "      <th>shortage_event_id</th>\n",
       "      <th>ndc_id</th>\n",
       "      <th>Status</th>\n",
       "      <th>Timestamp</th>\n",
       "      <th>Reason for Shortage</th>\n",
       "      <th>Generic Name</th>\n",
       "      <th>Company Name</th>\n",
       "      <th>Initial Posting Date</th>\n",
       "      <th>Date of Update</th>\n",
       "    </tr>\n",
       "  </thead>\n",
       "  <tbody>\n",
       "    <tr>\n",
       "      <th>0</th>\n",
       "      <td>5</td>\n",
       "      <td>00527-1395-11/25/2019</td>\n",
       "      <td>00527-1395</td>\n",
       "      <td>to be discontinued</td>\n",
       "      <td>8/14/23 0:01</td>\n",
       "      <td>NaN</td>\n",
       "      <td>Loxapine Capsules</td>\n",
       "      <td>Lannett Company, Inc.</td>\n",
       "      <td>11/25/19</td>\n",
       "      <td>6/14/22</td>\n",
       "    </tr>\n",
       "    <tr>\n",
       "      <th>1</th>\n",
       "      <td>5</td>\n",
       "      <td>00527-1396-11/25/2019</td>\n",
       "      <td>00527-1396</td>\n",
       "      <td>to be discontinued</td>\n",
       "      <td>8/14/23 0:01</td>\n",
       "      <td>NaN</td>\n",
       "      <td>Loxapine Capsules</td>\n",
       "      <td>Lannett Company, Inc.</td>\n",
       "      <td>11/25/19</td>\n",
       "      <td>6/14/22</td>\n",
       "    </tr>\n",
       "    <tr>\n",
       "      <th>2</th>\n",
       "      <td>5</td>\n",
       "      <td>00527-1397-11/25/2019</td>\n",
       "      <td>00527-1397</td>\n",
       "      <td>to be discontinued</td>\n",
       "      <td>8/14/23 0:01</td>\n",
       "      <td>NaN</td>\n",
       "      <td>Loxapine Capsules</td>\n",
       "      <td>Lannett Company, Inc.</td>\n",
       "      <td>11/25/19</td>\n",
       "      <td>6/14/22</td>\n",
       "    </tr>\n",
       "    <tr>\n",
       "      <th>3</th>\n",
       "      <td>5</td>\n",
       "      <td>00591-0371-11/25/2019</td>\n",
       "      <td>00591-0371</td>\n",
       "      <td>resolved</td>\n",
       "      <td>8/14/23 0:01</td>\n",
       "      <td>NaN</td>\n",
       "      <td>Loxapine Capsules</td>\n",
       "      <td>Teva Pharmaceuticals</td>\n",
       "      <td>11/25/19</td>\n",
       "      <td>6/14/22</td>\n",
       "    </tr>\n",
       "    <tr>\n",
       "      <th>4</th>\n",
       "      <td>5</td>\n",
       "      <td>00527-1394-11/25/2019</td>\n",
       "      <td>00527-1394</td>\n",
       "      <td>to be discontinued</td>\n",
       "      <td>8/14/23 0:01</td>\n",
       "      <td>NaN</td>\n",
       "      <td>Loxapine Capsules</td>\n",
       "      <td>Lannett Company, Inc.</td>\n",
       "      <td>11/25/19</td>\n",
       "      <td>6/14/22</td>\n",
       "    </tr>\n",
       "  </tbody>\n",
       "</table>\n",
       "</div>"
      ],
      "text/plain": [
       "   gt_id      shortage_event_id      ndc_id              Status     Timestamp  \\\n",
       "0      5  00527-1395-11/25/2019  00527-1395  to be discontinued  8/14/23 0:01   \n",
       "1      5  00527-1396-11/25/2019  00527-1396  to be discontinued  8/14/23 0:01   \n",
       "2      5  00527-1397-11/25/2019  00527-1397  to be discontinued  8/14/23 0:01   \n",
       "3      5  00591-0371-11/25/2019  00591-0371            resolved  8/14/23 0:01   \n",
       "4      5  00527-1394-11/25/2019  00527-1394  to be discontinued  8/14/23 0:01   \n",
       "\n",
       "   Reason for Shortage       Generic Name           Company Name  \\\n",
       "0                  NaN  Loxapine Capsules  Lannett Company, Inc.   \n",
       "1                  NaN  Loxapine Capsules  Lannett Company, Inc.   \n",
       "2                  NaN  Loxapine Capsules  Lannett Company, Inc.   \n",
       "3                  NaN  Loxapine Capsules   Teva Pharmaceuticals   \n",
       "4                  NaN  Loxapine Capsules  Lannett Company, Inc.   \n",
       "\n",
       "  Initial Posting Date Date of Update  \n",
       "0             11/25/19        6/14/22  \n",
       "1             11/25/19        6/14/22  \n",
       "2             11/25/19        6/14/22  \n",
       "3             11/25/19        6/14/22  \n",
       "4             11/25/19        6/14/22  "
      ]
     },
     "execution_count": 2,
     "metadata": {},
     "output_type": "execute_result"
    }
   ],
   "source": [
    "df_raw = pd.read_csv(\"GT_trajectories_raw.csv\")\n",
    "print(df_raw.shape)\n",
    "df_raw.head()"
   ]
  },
  {
   "cell_type": "code",
   "execution_count": 3,
   "id": "88437045",
   "metadata": {},
   "outputs": [
    {
     "data": {
      "text/plain": [
       "Index(['gt_id', 'shortage_event_id', 'ndc_id', 'Status', 'Timestamp',\n",
       "       ' Reason for Shortage', 'Generic Name', 'Company Name',\n",
       "       'Initial Posting Date', 'Date of Update'],\n",
       "      dtype='object')"
      ]
     },
     "execution_count": 3,
     "metadata": {},
     "output_type": "execute_result"
    }
   ],
   "source": [
    "df_raw.columns"
   ]
  },
  {
   "cell_type": "code",
   "execution_count": 4,
   "id": "0e5ef156",
   "metadata": {},
   "outputs": [
    {
     "name": "stderr",
     "output_type": "stream",
     "text": [
      "/var/folders/33/gyvvd4710r7_4n22mnftfz4h0000gn/T/ipykernel_3734/94494800.py:1: UserWarning: Could not infer format, so each element will be parsed individually, falling back to `dateutil`. To ensure parsing is consistent and as-expected, please specify a format.\n",
      "  df_raw['Initial Posting Date'] = pd.to_datetime(df_raw['Initial Posting Date'])\n",
      "/var/folders/33/gyvvd4710r7_4n22mnftfz4h0000gn/T/ipykernel_3734/94494800.py:2: UserWarning: Could not infer format, so each element will be parsed individually, falling back to `dateutil`. To ensure parsing is consistent and as-expected, please specify a format.\n",
      "  df_raw['Date of Update'] = pd.to_datetime(df_raw['Date of Update'])\n"
     ]
    }
   ],
   "source": [
    "df_raw['Initial Posting Date'] = pd.to_datetime(df_raw['Initial Posting Date'])\n",
    "df_raw['Date of Update'] = pd.to_datetime(df_raw['Date of Update'])\n",
    "\n",
    "df_raw['quarters_between'] = (\n",
    "    df_raw['Date of Update'].dt.to_period('Q')         \n",
    "    - df_raw['Initial Posting Date'].dt.to_period('Q')\n",
    ").apply(lambda x: x.n)\n"
   ]
  },
  {
   "cell_type": "code",
   "execution_count": 5,
   "id": "608a1690",
   "metadata": {},
   "outputs": [
    {
     "data": {
      "text/html": [
       "<div>\n",
       "<style scoped>\n",
       "    .dataframe tbody tr th:only-of-type {\n",
       "        vertical-align: middle;\n",
       "    }\n",
       "\n",
       "    .dataframe tbody tr th {\n",
       "        vertical-align: top;\n",
       "    }\n",
       "\n",
       "    .dataframe thead th {\n",
       "        text-align: right;\n",
       "    }\n",
       "</style>\n",
       "<table border=\"1\" class=\"dataframe\">\n",
       "  <thead>\n",
       "    <tr style=\"text-align: right;\">\n",
       "      <th></th>\n",
       "      <th>gt_id</th>\n",
       "      <th>shortage_event_id</th>\n",
       "      <th>ndc_id</th>\n",
       "      <th>Status</th>\n",
       "      <th>Timestamp</th>\n",
       "      <th>Reason for Shortage</th>\n",
       "      <th>Generic Name</th>\n",
       "      <th>Company Name</th>\n",
       "      <th>Initial Posting Date</th>\n",
       "      <th>Date of Update</th>\n",
       "      <th>quarters_between</th>\n",
       "      <th>company_code</th>\n",
       "    </tr>\n",
       "  </thead>\n",
       "  <tbody>\n",
       "    <tr>\n",
       "      <th>0</th>\n",
       "      <td>5</td>\n",
       "      <td>00527-1395-11/25/2019</td>\n",
       "      <td>00527-1395</td>\n",
       "      <td>to be discontinued</td>\n",
       "      <td>8/14/23 0:01</td>\n",
       "      <td>NaN</td>\n",
       "      <td>Loxapine Capsules</td>\n",
       "      <td>Lannett Company, Inc.</td>\n",
       "      <td>2019-11-25</td>\n",
       "      <td>2022-06-14</td>\n",
       "      <td>10</td>\n",
       "      <td>00527</td>\n",
       "    </tr>\n",
       "    <tr>\n",
       "      <th>1</th>\n",
       "      <td>5</td>\n",
       "      <td>00527-1396-11/25/2019</td>\n",
       "      <td>00527-1396</td>\n",
       "      <td>to be discontinued</td>\n",
       "      <td>8/14/23 0:01</td>\n",
       "      <td>NaN</td>\n",
       "      <td>Loxapine Capsules</td>\n",
       "      <td>Lannett Company, Inc.</td>\n",
       "      <td>2019-11-25</td>\n",
       "      <td>2022-06-14</td>\n",
       "      <td>10</td>\n",
       "      <td>00527</td>\n",
       "    </tr>\n",
       "    <tr>\n",
       "      <th>2</th>\n",
       "      <td>5</td>\n",
       "      <td>00527-1397-11/25/2019</td>\n",
       "      <td>00527-1397</td>\n",
       "      <td>to be discontinued</td>\n",
       "      <td>8/14/23 0:01</td>\n",
       "      <td>NaN</td>\n",
       "      <td>Loxapine Capsules</td>\n",
       "      <td>Lannett Company, Inc.</td>\n",
       "      <td>2019-11-25</td>\n",
       "      <td>2022-06-14</td>\n",
       "      <td>10</td>\n",
       "      <td>00527</td>\n",
       "    </tr>\n",
       "    <tr>\n",
       "      <th>3</th>\n",
       "      <td>5</td>\n",
       "      <td>00591-0371-11/25/2019</td>\n",
       "      <td>00591-0371</td>\n",
       "      <td>resolved</td>\n",
       "      <td>8/14/23 0:01</td>\n",
       "      <td>NaN</td>\n",
       "      <td>Loxapine Capsules</td>\n",
       "      <td>Teva Pharmaceuticals</td>\n",
       "      <td>2019-11-25</td>\n",
       "      <td>2022-06-14</td>\n",
       "      <td>10</td>\n",
       "      <td>00591</td>\n",
       "    </tr>\n",
       "    <tr>\n",
       "      <th>4</th>\n",
       "      <td>5</td>\n",
       "      <td>00527-1394-11/25/2019</td>\n",
       "      <td>00527-1394</td>\n",
       "      <td>to be discontinued</td>\n",
       "      <td>8/14/23 0:01</td>\n",
       "      <td>NaN</td>\n",
       "      <td>Loxapine Capsules</td>\n",
       "      <td>Lannett Company, Inc.</td>\n",
       "      <td>2019-11-25</td>\n",
       "      <td>2022-06-14</td>\n",
       "      <td>10</td>\n",
       "      <td>00527</td>\n",
       "    </tr>\n",
       "    <tr>\n",
       "      <th>...</th>\n",
       "      <td>...</td>\n",
       "      <td>...</td>\n",
       "      <td>...</td>\n",
       "      <td>...</td>\n",
       "      <td>...</td>\n",
       "      <td>...</td>\n",
       "      <td>...</td>\n",
       "      <td>...</td>\n",
       "      <td>...</td>\n",
       "      <td>...</td>\n",
       "      <td>...</td>\n",
       "      <td>...</td>\n",
       "    </tr>\n",
       "    <tr>\n",
       "      <th>618</th>\n",
       "      <td>80</td>\n",
       "      <td>49884-0156-06/24/2021</td>\n",
       "      <td>49884-0156</td>\n",
       "      <td>resolved</td>\n",
       "      <td>8/14/23 0:01</td>\n",
       "      <td>NaN</td>\n",
       "      <td>Varenicline Tartrate (Chantix) Tablets</td>\n",
       "      <td>Par Pharmaceutical</td>\n",
       "      <td>2021-06-24</td>\n",
       "      <td>2022-05-26</td>\n",
       "      <td>4</td>\n",
       "      <td>49884</td>\n",
       "    </tr>\n",
       "    <tr>\n",
       "      <th>619</th>\n",
       "      <td>80</td>\n",
       "      <td>49884-0944-06/24/2021</td>\n",
       "      <td>49884-0944</td>\n",
       "      <td>resolved</td>\n",
       "      <td>8/14/23 0:01</td>\n",
       "      <td>NaN</td>\n",
       "      <td>Varenicline Tartrate (Chantix) Tablets</td>\n",
       "      <td>Par Pharmaceutical</td>\n",
       "      <td>2021-06-24</td>\n",
       "      <td>2022-05-26</td>\n",
       "      <td>4</td>\n",
       "      <td>49884</td>\n",
       "    </tr>\n",
       "    <tr>\n",
       "      <th>620</th>\n",
       "      <td>80</td>\n",
       "      <td>60505-4766-06/24/2021</td>\n",
       "      <td>60505-4766</td>\n",
       "      <td>resolved</td>\n",
       "      <td>8/14/23 0:01</td>\n",
       "      <td>NaN</td>\n",
       "      <td>Varenicline Tartrate (Chantix) Tablets</td>\n",
       "      <td>Apotex Corp.</td>\n",
       "      <td>2021-06-24</td>\n",
       "      <td>2022-05-26</td>\n",
       "      <td>4</td>\n",
       "      <td>60505</td>\n",
       "    </tr>\n",
       "    <tr>\n",
       "      <th>621</th>\n",
       "      <td>80</td>\n",
       "      <td>60505-4765-06/24/2021</td>\n",
       "      <td>60505-4765</td>\n",
       "      <td>resolved</td>\n",
       "      <td>8/14/23 0:01</td>\n",
       "      <td>NaN</td>\n",
       "      <td>Varenicline Tartrate (Chantix) Tablets</td>\n",
       "      <td>Apotex Corp.</td>\n",
       "      <td>2021-06-24</td>\n",
       "      <td>2022-05-26</td>\n",
       "      <td>4</td>\n",
       "      <td>60505</td>\n",
       "    </tr>\n",
       "    <tr>\n",
       "      <th>622</th>\n",
       "      <td>80</td>\n",
       "      <td>60505-4767-06/24/2021</td>\n",
       "      <td>60505-4767</td>\n",
       "      <td>resolved</td>\n",
       "      <td>8/14/23 0:01</td>\n",
       "      <td>NaN</td>\n",
       "      <td>Varenicline Tartrate (Chantix) Tablets</td>\n",
       "      <td>Apotex Corp.</td>\n",
       "      <td>2021-06-24</td>\n",
       "      <td>2022-05-26</td>\n",
       "      <td>4</td>\n",
       "      <td>60505</td>\n",
       "    </tr>\n",
       "  </tbody>\n",
       "</table>\n",
       "<p>623 rows × 12 columns</p>\n",
       "</div>"
      ],
      "text/plain": [
       "     gt_id      shortage_event_id      ndc_id              Status  \\\n",
       "0        5  00527-1395-11/25/2019  00527-1395  to be discontinued   \n",
       "1        5  00527-1396-11/25/2019  00527-1396  to be discontinued   \n",
       "2        5  00527-1397-11/25/2019  00527-1397  to be discontinued   \n",
       "3        5  00591-0371-11/25/2019  00591-0371            resolved   \n",
       "4        5  00527-1394-11/25/2019  00527-1394  to be discontinued   \n",
       "..     ...                    ...         ...                 ...   \n",
       "618     80  49884-0156-06/24/2021  49884-0156            resolved   \n",
       "619     80  49884-0944-06/24/2021  49884-0944            resolved   \n",
       "620     80  60505-4766-06/24/2021  60505-4766            resolved   \n",
       "621     80  60505-4765-06/24/2021  60505-4765            resolved   \n",
       "622     80  60505-4767-06/24/2021  60505-4767            resolved   \n",
       "\n",
       "        Timestamp  Reason for Shortage  \\\n",
       "0    8/14/23 0:01                  NaN   \n",
       "1    8/14/23 0:01                  NaN   \n",
       "2    8/14/23 0:01                  NaN   \n",
       "3    8/14/23 0:01                  NaN   \n",
       "4    8/14/23 0:01                  NaN   \n",
       "..            ...                  ...   \n",
       "618  8/14/23 0:01                  NaN   \n",
       "619  8/14/23 0:01                  NaN   \n",
       "620  8/14/23 0:01                  NaN   \n",
       "621  8/14/23 0:01                  NaN   \n",
       "622  8/14/23 0:01                  NaN   \n",
       "\n",
       "                               Generic Name           Company Name  \\\n",
       "0                         Loxapine Capsules  Lannett Company, Inc.   \n",
       "1                         Loxapine Capsules  Lannett Company, Inc.   \n",
       "2                         Loxapine Capsules  Lannett Company, Inc.   \n",
       "3                         Loxapine Capsules   Teva Pharmaceuticals   \n",
       "4                         Loxapine Capsules  Lannett Company, Inc.   \n",
       "..                                      ...                    ...   \n",
       "618  Varenicline Tartrate (Chantix) Tablets     Par Pharmaceutical   \n",
       "619  Varenicline Tartrate (Chantix) Tablets     Par Pharmaceutical   \n",
       "620  Varenicline Tartrate (Chantix) Tablets           Apotex Corp.   \n",
       "621  Varenicline Tartrate (Chantix) Tablets           Apotex Corp.   \n",
       "622  Varenicline Tartrate (Chantix) Tablets           Apotex Corp.   \n",
       "\n",
       "    Initial Posting Date Date of Update  quarters_between company_code  \n",
       "0             2019-11-25     2022-06-14                10        00527  \n",
       "1             2019-11-25     2022-06-14                10        00527  \n",
       "2             2019-11-25     2022-06-14                10        00527  \n",
       "3             2019-11-25     2022-06-14                10        00591  \n",
       "4             2019-11-25     2022-06-14                10        00527  \n",
       "..                   ...            ...               ...          ...  \n",
       "618           2021-06-24     2022-05-26                 4        49884  \n",
       "619           2021-06-24     2022-05-26                 4        49884  \n",
       "620           2021-06-24     2022-05-26                 4        60505  \n",
       "621           2021-06-24     2022-05-26                 4        60505  \n",
       "622           2021-06-24     2022-05-26                 4        60505  \n",
       "\n",
       "[623 rows x 12 columns]"
      ]
     },
     "execution_count": 5,
     "metadata": {},
     "output_type": "execute_result"
    }
   ],
   "source": [
    "df_raw['company_code'] = df_raw['ndc_id'].apply(lambda x: x.split(\"-\")[0])\n",
    "df_raw"
   ]
  },
  {
   "cell_type": "code",
   "execution_count": 6,
   "id": "1c08242e",
   "metadata": {},
   "outputs": [
    {
     "name": "stderr",
     "output_type": "stream",
     "text": [
      "/var/folders/33/gyvvd4710r7_4n22mnftfz4h0000gn/T/ipykernel_3734/2567830033.py:33: FutureWarning: DataFrameGroupBy.apply operated on the grouping columns. This behavior is deprecated, and in a future version of pandas the grouping columns will be excluded from the operation. Either pass `include_groups=False` to exclude the groupings or explicitly select the grouping columns after groupby to silence this warning.\n",
      "  df = df_raw.groupby('gt_id', as_index=False).apply(summarize)\n"
     ]
    }
   ],
   "source": [
    "def summarize(group: pd.DataFrame) -> pd.Series:\n",
    "    # manufacturers that have at least one “to be discontinued” row\n",
    "    disc_rows     = group['Status'].eq('to be discontinued')\n",
    "    disc_makers   = group.loc[disc_rows, 'Company Name'].unique()\n",
    "\n",
    "    # --- build the usual columns ---\n",
    "    n_makers      = group['Company Name'].nunique()\n",
    "    gt_type       = group['Status'].nunique()\n",
    "    quarters        = group['quarters_between'].iloc[0]          # first value in original order\n",
    "    disruption_nr = len(disc_makers)\n",
    "\n",
    "    # --- disruption magnitude (average percentage across those makers) ---\n",
    "    if disruption_nr == 0:          # no disruptions in this gt_id\n",
    "        disruption_mag = 0.2\n",
    "    else:\n",
    "        # proportion of “discontinued” rows for each disrupted maker\n",
    "        maker_pct = (\n",
    "            group[group['Company Name'].isin(disc_makers)]\n",
    "            .groupby('Company Name')['Status']\n",
    "            .apply(lambda s: (s == 'to be discontinued').mean())   # mean() on booleans → proportion\n",
    "        )\n",
    "        disruption_mag = maker_pct.mean()        # average across makers\n",
    "\n",
    "    return pd.Series({\n",
    "        'n_manufacturers'   : n_makers,\n",
    "        'gt_type'           : gt_type,\n",
    "        'quarters'            : quarters,\n",
    "        'disruption_number' : disruption_nr,\n",
    "        'disruption_magnitude': disruption_mag     # 0 – 1 proportion; multiply by 100 for %\n",
    "    })\n",
    "\n",
    "# one tidy summary table\n",
    "df = df_raw.groupby('gt_id', as_index=False).apply(summarize)\n",
    "df['disruption_magnitude'] = df.disruption_magnitude.apply(lambda x: 0.6 if x > 0.5 else x)\n",
    "df['periods'] = df.quarters.apply(lambda x: 4 if x <4 else x)"
   ]
  },
  {
   "cell_type": "code",
   "execution_count": 7,
   "id": "038db361",
   "metadata": {},
   "outputs": [
    {
     "data": {
      "text/plain": [
       "gt_type\n",
       "1.0    57\n",
       "2.0    16\n",
       "Name: count, dtype: int64"
      ]
     },
     "execution_count": 7,
     "metadata": {},
     "output_type": "execute_result"
    }
   ],
   "source": [
    "df.gt_type.value_counts()"
   ]
  },
  {
   "cell_type": "code",
   "execution_count": null,
   "id": "82ac42dd",
   "metadata": {},
   "outputs": [],
   "source": []
  },
  {
   "cell_type": "code",
   "execution_count": null,
   "id": "0b762925",
   "metadata": {},
   "outputs": [
    {
     "name": "stdout",
     "output_type": "stream",
     "text": [
      "(11, 7)\n"
     ]
    }
   ],
   "source": [
    "# enforced disruption start\n",
    "print(df.loc[(df.periods < 12) & (df.gt_type == 2)].shape)\n",
    "df.loc[(df.periods < 12) & (df.gt_type == 2)].to_csv(\"GT_Disc.csv\", index=False)"
   ]
  },
  {
   "cell_type": "code",
   "execution_count": 113,
   "id": "fd5151c3",
   "metadata": {},
   "outputs": [
    {
     "name": "stdout",
     "output_type": "stream",
     "text": [
      "(41, 7)\n"
     ]
    }
   ],
   "source": [
    "# random disruption start\n",
    "print(df.loc[(df.periods < 12) & (df.gt_type == 1)].shape)\n",
    "df.loc[(df.periods < 12) & (df.gt_type == 1)].to_csv(\"GT_NoDisc.csv\", index=False)"
   ]
  },
  {
   "cell_type": "code",
   "execution_count": null,
   "id": "532a69b3",
   "metadata": {},
   "outputs": [],
   "source": []
  },
  {
   "cell_type": "markdown",
   "id": "b6a1a2f8",
   "metadata": {},
   "source": [
    "# Evaluation"
   ]
  },
  {
   "cell_type": "code",
   "execution_count": 65,
   "id": "7171f5e8",
   "metadata": {},
   "outputs": [],
   "source": [
    "import ast\n",
    "gt_disc_file_name = \"gt_experiments_20250730_220734.csv\"\n",
    "df = pd.read_csv(\"../src/gt_evaluation/\" + gt_disc_file_name)\n",
    "df.trajectory = df.trajectory.apply(lambda x: ast.literal_eval(x))"
   ]
  },
  {
   "cell_type": "code",
   "execution_count": 67,
   "id": "958a2425",
   "metadata": {},
   "outputs": [
    {
     "data": {
      "text/plain": [
       "np.float64(4.090909090909091)"
      ]
     },
     "execution_count": 67,
     "metadata": {},
     "output_type": "execute_result"
    }
   ],
   "source": [
    "df.n_manufacturers.mean()"
   ]
  },
  {
   "cell_type": "code",
   "execution_count": 68,
   "id": "423d18b6",
   "metadata": {},
   "outputs": [
    {
     "data": {
      "text/plain": [
       "np.float64(6.0)"
      ]
     },
     "execution_count": 68,
     "metadata": {},
     "output_type": "execute_result"
    }
   ],
   "source": [
    "df.periods.mean()"
   ]
  },
  {
   "cell_type": "code",
   "execution_count": 19,
   "id": "7a0f0e29",
   "metadata": {},
   "outputs": [],
   "source": [
    "tmp = df.explode('trajectory', ignore_index=True)\n",
    "sim_cols = (\n",
    "    pd.json_normalize(tmp['trajectory'])  # dict → columns\n",
    "      .rename(lambda c: f\"trajectory_{c}\", axis=1)  # optional: prefix to avoid clashes\n",
    ")\n",
    "final_df = (\n",
    "    tmp.drop(columns='trajectory')   # keep every other column once\n",
    "       .reset_index(drop=True)        # tidy up the index after explode\n",
    "       .join(sim_cols)                # add the flattened columns\n",
    ")"
   ]
  },
  {
   "cell_type": "code",
   "execution_count": 21,
   "id": "ce0a6a37",
   "metadata": {},
   "outputs": [
    {
     "data": {
      "text/plain": [
       "Index(['scenario', 'simulation_id', '#simulation', 'gt_type',\n",
       "       'n_manufacturers', 'periods', 'disruption_prob', 'disruption_magnitude',\n",
       "       'peak_shortage', 'avg_shortage', 'shortage_periods', 'resolution_time',\n",
       "       'total_profit', 'buyer_cost', 'fda_interventions', 'trajectory_period',\n",
       "       'trajectory_total_demand', 'trajectory_total_supply',\n",
       "       'trajectory_shortage_amount', 'trajectory_unsold',\n",
       "       'trajectory_shortage_percentage', 'trajectory_disrupted_manufacturers',\n",
       "       'trajectory_fda_announcement'],\n",
       "      dtype='object')"
      ]
     },
     "execution_count": 21,
     "metadata": {},
     "output_type": "execute_result"
    }
   ],
   "source": [
    "final_df.columns"
   ]
  },
  {
   "cell_type": "code",
   "execution_count": 34,
   "id": "abcb98be",
   "metadata": {},
   "outputs": [],
   "source": [
    "final_df['shortage_flag'] = final_df.apply(lambda x: abs(x.trajectory_total_supply - 1) < 0.05, axis=1)\n",
    "# final_df.to_csv(\"current.csv\")"
   ]
  },
  {
   "cell_type": "code",
   "execution_count": 35,
   "id": "f2090e05",
   "metadata": {},
   "outputs": [
    {
     "name": "stdout",
     "output_type": "stream",
     "text": [
      "Resolution Success Rate: 72.73%\n"
     ]
    }
   ],
   "source": [
    "cols_to_sort = ['scenario', 'trajectory_period']\n",
    "df_sorted = final_df.sort_values(cols_to_sort)\n",
    "\n",
    "# get the last row for every (scenario, simulation) combo\n",
    "final_flag = (\n",
    "    df_sorted\n",
    "      .groupby(['scenario'])\n",
    "      .tail(1)['shortage_flag']\n",
    ")\n",
    "\n",
    "# resolution success (=1 if shortage_actual == False)\n",
    "resolved = (~final_flag).astype(int)\n",
    "\n",
    "resolution_success_rate = resolved.mean()\n",
    "print(f\"Resolution Success Rate: {resolution_success_rate:.2%}\")"
   ]
  },
  {
   "cell_type": "code",
   "execution_count": null,
   "id": "53216564",
   "metadata": {},
   "outputs": [],
   "source": [
    "t_sim = (\n",
    "    df_sorted.loc[df_sorted.shortage_flag]               # rows where shortage == False\n",
    "          .groupby(['scenario'])   # one per run\n",
    "          .agg(t_sim=('trajectory_period', 'min'))\n",
    ")\n",
    "t_sim = t_sim + 1"
   ]
  },
  {
   "cell_type": "code",
   "execution_count": 55,
   "id": "5070d6f2",
   "metadata": {},
   "outputs": [],
   "source": [
    "t_gt = (\n",
    "    df_sorted.groupby('scenario')['trajectory_period']      # or ['periods'] if you prefer\n",
    "         .max()                              # horizon == resolved quarter\n",
    "         .rename('t_gt')\n",
    ")\n",
    "t_gt = t_gt+1"
   ]
  },
  {
   "cell_type": "code",
   "execution_count": 49,
   "id": "397738b7",
   "metadata": {},
   "outputs": [],
   "source": [
    "horizon = (df_sorted.groupby(['scenario'])\n",
    "                   .trajectory_period.max())"
   ]
  },
  {
   "cell_type": "code",
   "execution_count": 58,
   "id": "86423d1f",
   "metadata": {},
   "outputs": [],
   "source": [
    "meta = (\n",
    "    t_sim.join(horizon.rename('T'), how='left')\n",
    "         .reset_index()\n",
    "         .merge(t_gt.reset_index(), on='scenario', how='left')\n",
    ")\n",
    "\n",
    "meta['t_sim'] = meta['t_sim'].fillna(meta['T'] + 1)  # unresolved sims"
   ]
  },
  {
   "cell_type": "code",
   "execution_count": 59,
   "id": "4480a84c",
   "metadata": {},
   "outputs": [
    {
     "name": "stdout",
     "output_type": "stream",
     "text": [
      "Mean Resolution-Lag %: -53.00\n"
     ]
    }
   ],
   "source": [
    "###############################################################################\n",
    "# 3.  Lag & Resolution-Lag %  (unchanged)\n",
    "###############################################################################\n",
    "meta['lag'] = meta['t_sim'] - meta['t_gt']\n",
    "meta['rlp'] = 100 * meta['lag'] / meta['t_gt']\n",
    "\n",
    "overall_rlp_mean = meta['rlp'].mean()\n",
    "print(f\"Mean Resolution-Lag %: {overall_rlp_mean:6.2f}\")"
   ]
  },
  {
   "cell_type": "code",
   "execution_count": 61,
   "id": "62d538b5",
   "metadata": {},
   "outputs": [],
   "source": [
    "###############################################################################\n",
    "# 1. Simulation: sustainable resolution time  (last True + 1)\n",
    "###############################################################################\n",
    "# last period that is still in shortage\n",
    "t_last_short = (\n",
    "    df_sorted.loc[df_sorted.shortage_flag]                  # rows where shortage persists\n",
    "          .groupby(['scenario'])\n",
    "          .agg(t_last_true=('trajectory_period', 'max'))\n",
    ")\n",
    "\n",
    "# add 1 → first period with no shortage *and stays that way thereafter*\n",
    "t_sim = t_last_short.assign(t_sim=lambda x: x['t_last_true'] + 1)[['t_sim']]\n",
    "\n",
    "###############################################################################\n",
    "# Ground-truth horizon is still the resolution time\n",
    "# (if your GT stops exactly when shortage ends)\n",
    "###############################################################################\n",
    "t_gt = (\n",
    "    df_sorted.groupby('scenario')['trajectory_period']\n",
    "         .max()\n",
    "         .rename('t_gt')\n",
    ")\n",
    "\n",
    "###############################################################################\n",
    "# 2-3. Continue exactly as before: join → fill unresolved →\n",
    "#      lag = t_sim − t_gt,  rlp = 100·lag / t_gt\n",
    "###############################################################################\n",
    "horizon = (df_sorted.groupby(['scenario'])\n",
    "                   .trajectory_period.max())\n",
    "\n",
    "meta = (\n",
    "    t_sim.join(horizon.rename('T'), how='left')\n",
    "         .reset_index()\n",
    "         .merge(t_gt.reset_index(), on='scenario', how='left')\n",
    ")\n",
    "\n",
    "# unresolved sims: no shortage_flag == False at all  → t_sim = T + 1\n",
    "meta['t_sim'] = meta['t_sim'].fillna(meta['T'] + 1)\n",
    "\n",
    "meta['lag'] = meta['t_sim'] - meta['t_gt']\n",
    "meta['rlp'] = 100 * meta['lag'] / meta['t_gt']"
   ]
  },
  {
   "cell_type": "code",
   "execution_count": 63,
   "id": "ebd90c3f",
   "metadata": {},
   "outputs": [
    {
     "data": {
      "text/plain": [
       "np.float64(9.444444444444446)"
      ]
     },
     "execution_count": 63,
     "metadata": {},
     "output_type": "execute_result"
    }
   ],
   "source": [
    "meta['rlp'].mean()"
   ]
  },
  {
   "cell_type": "code",
   "execution_count": 64,
   "id": "c13f961e",
   "metadata": {},
   "outputs": [
    {
     "data": {
      "text/html": [
       "<div>\n",
       "<style scoped>\n",
       "    .dataframe tbody tr th:only-of-type {\n",
       "        vertical-align: middle;\n",
       "    }\n",
       "\n",
       "    .dataframe tbody tr th {\n",
       "        vertical-align: top;\n",
       "    }\n",
       "\n",
       "    .dataframe thead th {\n",
       "        text-align: right;\n",
       "    }\n",
       "</style>\n",
       "<table border=\"1\" class=\"dataframe\">\n",
       "  <thead>\n",
       "    <tr style=\"text-align: right;\">\n",
       "      <th></th>\n",
       "      <th>t_sim</th>\n",
       "    </tr>\n",
       "    <tr>\n",
       "      <th>scenario</th>\n",
       "      <th></th>\n",
       "    </tr>\n",
       "  </thead>\n",
       "  <tbody>\n",
       "    <tr>\n",
       "      <th>gt_id_14</th>\n",
       "      <td>4</td>\n",
       "    </tr>\n",
       "    <tr>\n",
       "      <th>gt_id_20</th>\n",
       "      <td>5</td>\n",
       "    </tr>\n",
       "    <tr>\n",
       "      <th>gt_id_5</th>\n",
       "      <td>10</td>\n",
       "    </tr>\n",
       "    <tr>\n",
       "      <th>gt_id_61</th>\n",
       "      <td>4</td>\n",
       "    </tr>\n",
       "    <tr>\n",
       "      <th>gt_id_66</th>\n",
       "      <td>7</td>\n",
       "    </tr>\n",
       "  </tbody>\n",
       "</table>\n",
       "</div>"
      ],
      "text/plain": [
       "          t_sim\n",
       "scenario       \n",
       "gt_id_14      4\n",
       "gt_id_20      5\n",
       "gt_id_5      10\n",
       "gt_id_61      4\n",
       "gt_id_66      7"
      ]
     },
     "execution_count": 64,
     "metadata": {},
     "output_type": "execute_result"
    }
   ],
   "source": [
    "t_sim"
   ]
  },
  {
   "cell_type": "code",
   "execution_count": null,
   "id": "07fd9c07",
   "metadata": {},
   "outputs": [],
   "source": []
  }
 ],
 "metadata": {
  "kernelspec": {
   "display_name": ".venv",
   "language": "python",
   "name": "python3"
  },
  "language_info": {
   "codemirror_mode": {
    "name": "ipython",
    "version": 3
   },
   "file_extension": ".py",
   "mimetype": "text/x-python",
   "name": "python",
   "nbconvert_exporter": "python",
   "pygments_lexer": "ipython3",
   "version": "3.10.14"
  }
 },
 "nbformat": 4,
 "nbformat_minor": 5
}
